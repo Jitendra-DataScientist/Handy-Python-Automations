{
 "cells": [
  {
   "cell_type": "code",
   "execution_count": null,
   "id": "b8e2f92f",
   "metadata": {},
   "outputs": [],
   "source": [
    "'''Tired of proofreading your long articles or texts? Then, you can try this automated script which will\n",
    "scan your text and correct grammar errors. This great script uses the Happtransformer module, which is a\n",
    "machine learning module trained to fix grammar errors in text.'''\n",
    "\n",
    "# Grammer Fixer\n",
    "# pip install happytransformer\n",
    "from happytransformer import HappyTextToText as HappyTTT\n",
    "from happytransformer import TTSettings\n",
    "def Grammer_Fixer(Text):\n",
    "    Grammer = HappyTTT(\"T5\",\"prithivida/grammar_error_correcter_v1\")\n",
    "    config = TTSettings(do_sample=True, top_k=10, max_length=100)\n",
    "    corrected = Grammer.generate_text(Text, args=config)\n",
    "    print(\"Corrected Text: \", corrected.text)\n",
    "Text = \"This is smple tet we how know this\"\n",
    "Grammer_Fixer(Text)\n"
   ]
  }
 ],
 "metadata": {
  "kernelspec": {
   "display_name": "Python 3 (ipykernel)",
   "language": "python",
   "name": "python3"
  },
  "language_info": {
   "codemirror_mode": {
    "name": "ipython",
    "version": 3
   },
   "file_extension": ".py",
   "mimetype": "text/x-python",
   "name": "python",
   "nbconvert_exporter": "python",
   "pygments_lexer": "ipython3",
   "version": "3.9.13"
  }
 },
 "nbformat": 4,
 "nbformat_minor": 5
}
