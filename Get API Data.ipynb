{
 "cells": [
  {
   "cell_type": "code",
   "execution_count": null,
   "id": "09246dd6",
   "metadata": {},
   "outputs": [],
   "source": [
    "'''If you need to get API data from a database or need to send an API request to a server, this automation\n",
    "script is a convenient tool for you. Using the Urllib3 module, you can get and post API requests.'''\n",
    "\n",
    "# pip install urllib3\n",
    "import urllib3\n",
    "# Fetch API data\n",
    "url = \"https://api.github.com/users/psf/repos\"\n",
    "http = urllib3.PoolManager()\n",
    "response = http.request('GET', url)\n",
    "print(response.status)\n",
    "print(response.data)\n",
    "# Post API data\n",
    "url = \"https://httpbin.org/post\"\n",
    "http = urllib3.PoolManager()\n",
    "response = http.request('POST', url, fields={'hello': 'world'})\n",
    "print(response.status)"
   ]
  }
 ],
 "metadata": {
  "kernelspec": {
   "display_name": "Python 3 (ipykernel)",
   "language": "python",
   "name": "python3"
  },
  "language_info": {
   "codemirror_mode": {
    "name": "ipython",
    "version": 3
   },
   "file_extension": ".py",
   "mimetype": "text/x-python",
   "name": "python",
   "nbconvert_exporter": "python",
   "pygments_lexer": "ipython3",
   "version": "3.9.13"
  }
 },
 "nbformat": 4,
 "nbformat_minor": 5
}
