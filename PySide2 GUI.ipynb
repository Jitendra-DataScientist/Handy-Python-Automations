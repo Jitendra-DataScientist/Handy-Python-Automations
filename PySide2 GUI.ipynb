{
 "cells": [
  {
   "cell_type": "code",
   "execution_count": null,
   "id": "b87f060b",
   "metadata": {},
   "outputs": [],
   "source": [
    "'''This automated script will help you create your GUI application using the PySide2 Gui module.\n",
    "You can find below every method needed to start developing the frontend of modern applications.'''\n",
    "\n",
    "# PySide 2 \n",
    "# pip install PySide2\n",
    "from PySide6.QtWidgets import *\n",
    "from PySide6.QtGui import *\n",
    "import sys\n",
    "app = QApplication(sys.argv)\n",
    "window = QWidget()\n",
    "# Resize the Window\n",
    "window.resize(500, 500)\n",
    "# Set the Window Title\n",
    "window.setWindowTitle(\"PySide2 Window\")\n",
    "# Add Buttons\n",
    "button = QPushButton(\"Click Me\", window)\n",
    "button.move(200, 200)\n",
    "# Add Label Text\n",
    "label = QLabel(\"Hello Medium\", window)\n",
    "label.move(200, 150)\n",
    "# Add Input Box\n",
    "input_box = QLineEdit(window)\n",
    "input_box.move(200, 250)\n",
    "print(input_box.text())\n",
    "# Add Radio Buttons\n",
    "radio_button = QRadioButton(\"Radio Button\", window)\n",
    "radio_button.move(200, 300)\n",
    "# Add Checkbox\n",
    "checkbox = QCheckBox(\"Checkbox\", window)\n",
    "checkbox.move(200, 350)\n",
    "# Add Slider\n",
    "slider = QSlider(window)\n",
    "slider.move(200, 400)\n",
    "# Add Progress Bar\n",
    "progress_bar = QProgressBar(window)\n",
    "progress_bar.move(200, 450)\n",
    "# Add Image \n",
    "image = QLabel(window)\n",
    "image.setPixmap(QPixmap(\"image.png\"))\n",
    "# Add Message Box\n",
    "msg = QMessageBox(window)\n",
    "msg.setText(\"Message Box\")\n",
    "msg.setStandardButtons(QMessageBox.Ok | QMessageBox.Cancel)\n",
    "window.show()\n",
    "sys.exit(app.exec())"
   ]
  },
  {
   "cell_type": "code",
   "execution_count": null,
   "id": "7ecfb195",
   "metadata": {},
   "outputs": [],
   "source": []
  }
 ],
 "metadata": {
  "kernelspec": {
   "display_name": "Python 3 (ipykernel)",
   "language": "python",
   "name": "python3"
  },
  "language_info": {
   "codemirror_mode": {
    "name": "ipython",
    "version": 3
   },
   "file_extension": ".py",
   "mimetype": "text/x-python",
   "name": "python",
   "nbconvert_exporter": "python",
   "pygments_lexer": "ipython3",
   "version": "3.9.13"
  }
 },
 "nbformat": 4,
 "nbformat_minor": 5
}
