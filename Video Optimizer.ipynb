{
 "cells": [
  {
   "cell_type": "code",
   "execution_count": null,
   "id": "59f44633",
   "metadata": {},
   "outputs": [],
   "source": [
    "'''With the following automation script, you can not only use Python to optimize videos, but also use\n",
    "it to optimize images. The script uses the Moviepy module, which allows you to trim, add audio, set\n",
    "video speed, add VFX, etc.'''\n",
    "\n",
    "# Video Optimizer\n",
    "# pip install moviepy\n",
    "import moviepy.editor as pyedit\n",
    "# Load the Video\n",
    "video = pyedit.VideoFileClip(\"vid.mp4\")\n",
    "# Trimming\n",
    "vid1 = video.subclip(0, 10)\n",
    "vid2 = video.subclip(20, 40)\n",
    "final_vid = pyedit.concatenate_videoclips([vid1, vid2])\n",
    "# Speed up the video\n",
    "final_vid = final_vid.speedx(2)\n",
    "# Adding Audio to the video\n",
    "aud = pyedit.AudioFileClip(\"bg.mp3\")\n",
    "final_vid = final_vid.set_audio(aud)\n",
    "# Reverse the Video\n",
    "final_vid = final_vid.fx(pyedit.vfx.time_mirror)\n",
    "# Merge two videos\n",
    "vid1 = pyedit.VideoFileClip(\"vid1.mp4\")\n",
    "vid2 = pyedit.VideoFileClip(\"vid2.mp4\")\n",
    "final_vid = pyedit.concatenate_videoclips([vid1, vid2])\n",
    "# Add VFX to Video\n",
    "vid1 = final_vid.fx(pyedit.vfx.mirror_x)\n",
    "vid2 = final_vid.fx(pyedit.vfx.invert_colors)\n",
    "final_vid = pyedit.concatenate_videoclips([vid1, vid2])\n",
    "# Add Images to Video\n",
    "img1 = pyedit.ImageClip(\"img1.jpg\")\n",
    "img2 = pyedit.ImageClip(\"img2.jpg\")\n",
    "final_vid = pyedit.concatenate_videoclips([img1, img2])\n",
    "# Save the video\n",
    "final_vid.write_videofile(\"final.mp4\")"
   ]
  }
 ],
 "metadata": {
  "kernelspec": {
   "display_name": "Python 3 (ipykernel)",
   "language": "python",
   "name": "python3"
  },
  "language_info": {
   "codemirror_mode": {
    "name": "ipython",
    "version": 3
   },
   "file_extension": ".py",
   "mimetype": "text/x-python",
   "name": "python",
   "nbconvert_exporter": "python",
   "pygments_lexer": "ipython3",
   "version": "3.9.13"
  }
 },
 "nbformat": 4,
 "nbformat_minor": 5
}
