{
 "cells": [
  {
   "cell_type": "code",
   "execution_count": null,
   "id": "c856e1a3",
   "metadata": {},
   "outputs": [],
   "source": [
    "# World News Fetcher\n",
    "'''\n",
    "Use this automated script to stay updated on daily world news anytime, in any language from any country/region.\n",
    "This API allows you to get 50 news articles for free every day.\n",
    "'''\n",
    "\n",
    "# pip install requests\n",
    "\n",
    "import requests\n",
    "\n",
    "# generate an API key, refer https://worldnewsapi.com/docs/#Authentication\n",
    "ApiKey = \"6f85eb1b38d64fe9bd0d30b8c7d47014\"\n",
    "\n",
    "url = \"https://api.worldnewsapi.com/search-news?text=hurricane&api-key={ApiKey}\"\n",
    "headers = {\n",
    "  'Accept': 'application/json'\n",
    "}\n",
    "response = requests.get(url, headers=headers)\n",
    "print(\"News: \", response.json())"
   ]
  },
  {
   "cell_type": "code",
   "execution_count": null,
   "id": "ee49e2fe",
   "metadata": {},
   "outputs": [],
   "source": []
  }
 ],
 "metadata": {
  "kernelspec": {
   "display_name": "Python 3 (ipykernel)",
   "language": "python",
   "name": "python3"
  },
  "language_info": {
   "codemirror_mode": {
    "name": "ipython",
    "version": 3
   },
   "file_extension": ".py",
   "mimetype": "text/x-python",
   "name": "python",
   "nbconvert_exporter": "python",
   "pygments_lexer": "ipython3",
   "version": "3.9.13"
  }
 },
 "nbformat": 4,
 "nbformat_minor": 5
}
