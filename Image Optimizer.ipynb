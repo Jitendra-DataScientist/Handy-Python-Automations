{
 "cells": [
  {
   "cell_type": "code",
   "execution_count": null,
   "id": "c87b3afb",
   "metadata": {},
   "outputs": [],
   "source": [
    "'''This great automation script can help you process images better and you can edit them just like in Photoshop.\n",
    "The script uses the popular Pillow module.'''\n",
    "\n",
    "# Image Optimizing\n",
    "# pip install Pillow\n",
    "import PIL\n",
    "# Croping \n",
    "im = PIL.Image.open(\"Image1.jpg\")\n",
    "im = im.crop((34, 23, 100, 100))\n",
    "# Resizing\n",
    "im = PIL.Image.open(\"Image1.jpg\")\n",
    "im = im.resize((50, 50))\n",
    "# Flipping\n",
    "im = PIL.Image.open(\"Image1.jpg\")\n",
    "im = im.transpose(PIL.Image.FLIP_LEFT_RIGHT)\n",
    "# Rotating\n",
    "im = PIL.Image.open(\"Image1.jpg\")\n",
    "im = im.rotate(360)\n",
    "# Compressing\n",
    "im = PIL.Image.open(\"Image1.jpg\")\n",
    "im.save(\"Image1.jpg\", optimize=True, quality=90)\n",
    "# Bluring\n",
    "im = PIL.Image.open(\"Image1.jpg\")\n",
    "im = im.filter(PIL.ImageFilter.BLUR)\n",
    "# Sharpening\n",
    "im = PIL.Image.open(\"Image1.jpg\")\n",
    "im = im.filter(PIL.ImageFilter.SHARPEN)\n",
    "# Set Brightness\n",
    "im = PIL.Image.open(\"Image1.jpg\")\n",
    "im = PIL.ImageEnhance.Brightness(im)\n",
    "im = im.enhance(1.5)\n",
    "# Set Contrast\n",
    "im = PIL.Image.open(\"Image1.jpg\")\n",
    "im = PIL.ImageEnhance.Contrast(im)\n",
    "im = im.enhance(1.5)\n",
    "# Adding Filters\n",
    "im = PIL.Image.open(\"Image1.jpg\")\n",
    "im = PIL.ImageOps.grayscale(im)\n",
    "im = PIL.ImageOps.invert(im)\n",
    "im = PIL.ImageOps.posterize(im, 4)\n",
    "# Saving\n",
    "im.save(\"Image1.jpg\")"
   ]
  }
 ],
 "metadata": {
  "kernelspec": {
   "display_name": "Python 3 (ipykernel)",
   "language": "python",
   "name": "python3"
  },
  "language_info": {
   "codemirror_mode": {
    "name": "ipython",
    "version": 3
   },
   "file_extension": ".py",
   "mimetype": "text/x-python",
   "name": "python",
   "nbconvert_exporter": "python",
   "pygments_lexer": "ipython3",
   "version": "3.9.13"
  }
 },
 "nbformat": 4,
 "nbformat_minor": 5
}
