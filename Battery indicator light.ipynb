{
 "cells": [
  {
   "cell_type": "code",
   "execution_count": null,
   "id": "01599298",
   "metadata": {},
   "outputs": [],
   "source": [
    "'''This convenient script allows you to set the battery percentage at which you want to receive\n",
    "notifications. The script uses Pyler for notifications and Psutil to get the current battery percentage.'''\n",
    "\n",
    "# Battery Notifier\n",
    "# pip instal plyer\n",
    "from plyer import notification\n",
    "import psutil\n",
    "from time import sleep\n",
    "while True:\n",
    "    battery = psutil.sensors_battery()\n",
    "    life = battery.percent\n",
    "    if life < 50:\n",
    "        notification.notify(\n",
    "            title = \"Battery Low\",\n",
    "            message = \"Please connect to power source\",\n",
    "            timeout = 10\n",
    "        )\n",
    "    sleep(60)"
   ]
  }
 ],
 "metadata": {
  "kernelspec": {
   "display_name": "Python 3 (ipykernel)",
   "language": "python",
   "name": "python3"
  },
  "language_info": {
   "codemirror_mode": {
    "name": "ipython",
    "version": 3
   },
   "file_extension": ".py",
   "mimetype": "text/x-python",
   "name": "python",
   "nbconvert_exporter": "python",
   "pygments_lexer": "ipython3",
   "version": "3.9.13"
  }
 },
 "nbformat": 4,
 "nbformat_minor": 5
}
